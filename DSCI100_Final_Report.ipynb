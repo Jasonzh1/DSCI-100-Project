{
 "cells": [
  {
   "cell_type": "markdown",
   "id": "8d3c672d-82fb-4949-bb9d-42c49303aced",
   "metadata": {},
   "source": [
    "## **1994 Wage Inequality Among US Citizens Based on Annual Income**"
   ]
  },
  {
   "cell_type": "markdown",
   "id": "285204fa-6541-494b-81f4-4496e6075153",
   "metadata": {},
   "source": [
    "##### Authors: Danielle Keith, Sam Chin, Jason Zheng"
   ]
  },
  {
   "cell_type": "markdown",
   "id": "3ac92888-e932-4cd7-a32d-aad2eae29efe",
   "metadata": {},
   "source": [
    "### Introduction"
   ]
  },
  {
   "cell_type": "markdown",
   "id": "5499346d-062f-420a-8cda-d7d449953286",
   "metadata": {},
   "source": [
    "During the 1990s, the United States faced the largest economic expansion it had seen since the 1960s. A huge technological boom brought a 3% economic growth rate, two million new jobs, and a stable 2.1% inflation rate following a minor recession in 1990 (Nasar, 1994). With record low unemployment rates and the need for highly educated employees to keep up with other countries' technological advances, the United States saw an increase in income rates in 1994 compared to previous years (Nasar, 1994). Wage inequality was still prominent for many minorities in the workforce like women, immigrants, and people of colour (Wilson, 2016). \n",
    "\n",
    "An analysis of the 1994 census data will allow us to predict whether a given person's income is greater or lesser than/equal to $50,000 based on factors like level of education, age, sex, race, native country, and hours worked per week. \n",
    "\n",
    "We will be using the `Adult` dataset taken from https://archive.ics.uci.edu/dataset/2/adult, which has extracted 32,560 entries from the 1994 US census. Of the 32,560 rows, each observation represents a single person and their various attributes. There are 15 columns each signifying a different defining factor. The columns are:\n",
    "\n",
    " - `age`: age of individual (integer >0)\n",
    " - `workclass`: employment status (ex. self-employed, private, unemployed)\n",
    " - `fnlwgt`: final weight or the number of people this individual's entry represents (integer >0)\n",
    " - `education`: the highest level of education completed (ex. 12th grade, Bachelor's, Doctorate)\n",
    " - `education-num`: the highest level of education completed in numerical form (integer >0)\n",
    " - `marital-status`: marital status (ex. married, single)\n",
    " - `occupation`: general type of occupation held (ex. sales, services, etc.)\n",
    " - `relationship`: primary relationship to others (ex. wife, husband, relative)\n",
    " - `race`: racial identity (ex. white, black, asian)\n",
    " - `sex`: biological sex (ex. male, female)\n",
    " - `capital-gain`: money earned on investments (integer >0)\n",
    " - `capital-loss`: money lost on investments (integer >0)\n",
    " - `hours-per-week`: hours at work each week\n",
    " - `native-country`: country of origin (ex. United States, India, Cuba)\n",
    " - `income`: annual income in USD (integer <=50k, >50k)"
   ]
  },
  {
   "cell_type": "markdown",
   "id": "598cdae0-1fd8-403a-add5-60e9b05e8874",
   "metadata": {},
   "source": [
    "### Methods"
   ]
  },
  {
   "cell_type": "code",
   "execution_count": null,
   "id": "c96047c2-38ad-4b7f-be0a-fd11930dbbcd",
   "metadata": {},
   "outputs": [],
   "source": []
  },
  {
   "cell_type": "markdown",
   "id": "bdde3bcb-81c5-4c10-918f-8af44e7e3a0e",
   "metadata": {},
   "source": [
    "### Results"
   ]
  },
  {
   "cell_type": "code",
   "execution_count": 7,
   "id": "6773ce76-b539-41d0-af63-625d59554bd5",
   "metadata": {},
   "outputs": [],
   "source": [
    "# Loading libraries\n",
    "library(tidyverse)\n",
    "library(repr)\n",
    "library(tidymodels)"
   ]
  },
  {
   "cell_type": "markdown",
   "id": "f345812b-5615-4161-b7d4-9ba0ef14126f",
   "metadata": {},
   "source": [
    "### Discussion\n",
    "#### *Expected Findings*\n",
    "- More younger people have an annual income greater than 50,000 dollars due to results also showing them having longer years of formal education.\n",
    "- More non-white, female, immigrants are likely to have an annual income less than 50,000 compared to white, male, native US residents.\n",
    "- More non-white, female, immigrants work longer hours than white, male, native US residents despite having a lower income.\n",
    "- White, male, native US residents are likely to have longer years of formal education leading to their higher annual income.\n",
    "\n",
    "#### *Impact of Findings*\n",
    "The results of the suggested findings can be compared to modern day statistics to determine if the annual income for different race, sex, age, and native groups has changed. Modern findings may suggest a decrease in wage inequality between race and sex groups, allowing for people to identify what changes were made to lead to this result. If modern stats show immigrants making an annual income more comparable to a native US resident than in 1994, the government can use it as a way of attracting migrants to the country. If in 2024, data shows younger generations having even more years of formal education compared to older generations, the government can advertise a rise in national education levels. \n",
    "\n",
    "#### *Future Questions*\n",
    "- Is formal education an important way to increase annual income in 2024 compared to 30 years ago?\n",
    "- Has the wage gap between different race, sex, and resident groups in the United States changed in the last 30 years?\n",
    "- Are US immigrants likely to receive financial support comparable to native US residents in 2024?"
   ]
  },
  {
   "cell_type": "markdown",
   "id": "e7399916-3d96-4d9f-8479-b02542e4359a",
   "metadata": {},
   "source": [
    "### References"
   ]
  },
  {
   "cell_type": "code",
   "execution_count": null,
   "id": "5b9cae22-c273-4449-b427-7c020060c4ff",
   "metadata": {},
   "outputs": [],
   "source": []
  }
 ],
 "metadata": {
  "kernelspec": {
   "display_name": "R",
   "language": "R",
   "name": "ir"
  },
  "language_info": {
   "codemirror_mode": "r",
   "file_extension": ".r",
   "mimetype": "text/x-r-source",
   "name": "R",
   "pygments_lexer": "r",
   "version": "4.3.1"
  }
 },
 "nbformat": 4,
 "nbformat_minor": 5
}
