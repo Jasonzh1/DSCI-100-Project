{
 "cells": [
  {
   "cell_type": "markdown",
   "id": "8d3c672d-82fb-4949-bb9d-42c49303aced",
   "metadata": {},
   "source": [
    "## **1994 Wage Inequality Among US Citizens Based on Annual Income**"
   ]
  },
  {
   "cell_type": "markdown",
   "id": "285204fa-6541-494b-81f4-4496e6075153",
   "metadata": {},
   "source": [
    "##### Authors: Danielle Keith, Sam Chin, Jason Zheng"
   ]
  },
  {
   "cell_type": "markdown",
   "id": "3ac92888-e932-4cd7-a32d-aad2eae29efe",
   "metadata": {},
   "source": [
    "### Introduction"
   ]
  },
  {
   "cell_type": "markdown",
   "id": "598cdae0-1fd8-403a-add5-60e9b05e8874",
   "metadata": {},
   "source": [
    "### Methods"
   ]
  },
  {
   "cell_type": "markdown",
   "id": "bdde3bcb-81c5-4c10-918f-8af44e7e3a0e",
   "metadata": {},
   "source": [
    "### Results"
   ]
  },
  {
   "cell_type": "markdown",
   "id": "f345812b-5615-4161-b7d4-9ba0ef14126f",
   "metadata": {},
   "source": [
    "### Discussion"
   ]
  },
  {
   "cell_type": "markdown",
   "id": "e7399916-3d96-4d9f-8479-b02542e4359a",
   "metadata": {},
   "source": [
    "### References"
   ]
  },
  {
   "cell_type": "code",
   "execution_count": null,
   "id": "5b9cae22-c273-4449-b427-7c020060c4ff",
   "metadata": {},
   "outputs": [],
   "source": []
  }
 ],
 "metadata": {
  "kernelspec": {
   "display_name": "R",
   "language": "R",
   "name": "ir"
  },
  "language_info": {
   "codemirror_mode": "r",
   "file_extension": ".r",
   "mimetype": "text/x-r-source",
   "name": "R",
   "pygments_lexer": "r",
   "version": "4.3.1"
  }
 },
 "nbformat": 4,
 "nbformat_minor": 5
}
