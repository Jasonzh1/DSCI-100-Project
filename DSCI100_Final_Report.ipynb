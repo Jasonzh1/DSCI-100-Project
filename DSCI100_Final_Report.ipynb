{
 "cells": [
  {
   "cell_type": "markdown",
   "id": "8d3c672d-82fb-4949-bb9d-42c49303aced",
   "metadata": {},
   "source": [
    "## **1994 Wage Inequality Among US Citizens Based on Annual Income**"
   ]
  },
  {
   "cell_type": "markdown",
   "id": "285204fa-6541-494b-81f4-4496e6075153",
   "metadata": {},
   "source": [
    "##### Authors: Danielle Keith, Sam Chin, Jason Zheng"
   ]
  },
  {
   "cell_type": "markdown",
   "id": "3ac92888-e932-4cd7-a32d-aad2eae29efe",
   "metadata": {},
   "source": [
    "### Introduction"
   ]
  },
  {
   "cell_type": "markdown",
   "id": "5499346d-062f-420a-8cda-d7d449953286",
   "metadata": {},
   "source": [
    "The 1990s saw a major economic boom in the US. Fueled by a tech boom, the economy grew at 3% with low unemployment and 2 million new jobs. While income increased in 1994, minorities and women still faced significant wage inequality (Wilson, 2016). This highlights that economic prosperity didn't necessarily translate to equal pay for all groups.\r\n",
    "\r\n",
    "An analysis of 1994 census data will allow us to predict whether a given person's income is greater or lesser than/equal to $50,000 based on factors like level of education, age, sex, race, native country, and hours worked per week\n",
    "\n",
    "We will be using the `Adult` dataset taken from https://archive.ics.uci.edu/dataset/2/adult, which has extracted 32,560 entries from the 1994 US census. Of the 32,560 rows, each observation represents a single person and their various attributes. There are 15 columns each signifying a different defining factor.\r\n",
    "\r\n",
    " - `age`: af ange o indivi\n",
    "ual\r\n",
    " - `workclass`: employment status (ex. self-employed, private, unemployed)\r\n",
    " - `fnlwgt`: final weight or the number of people this individual's entry represents\r\n",
    " - `education`: the highest level of education completed (ex. 12th grade, Bachelor's, Doctorate)\r\n",
    " - `education-num`: the highest level of education completed in numerical form \r\n",
    " - `marital-status`: marital status (ex. married, single)\r\n",
    " - `occupation`: general type of occupation held (ex. sales, services, etc.)\r\n",
    " - `relationship`: primary relationship to others (ex. wife, husband, relative)\r\n",
    " - `race`: racial identity (ex. white, black, asian)\r\n",
    " - `sex`: biological sex (ex. male, female)\r\n",
    " - `capital-gain`: money earned on investments\r\n",
    " - `capital-loss`: money lost on investments\r\n",
    " - `hours-per-week`: hours at work each week\r\n",
    " - `native-country`: country of origin (ex. United States, India, Cuba)\r\n",
    " - `income`: annual income in USD (by <=50k, >50k)50k)"
   ]
  },
  {
   "cell_type": "markdown",
   "id": "598cdae0-1fd8-403a-add5-60e9b05e8874",
   "metadata": {},
   "source": [
    "### Methods"
   ]
  },
  {
   "cell_type": "markdown",
   "id": "bdde3bcb-81c5-4c10-918f-8af44e7e3a0e",
   "metadata": {},
   "source": [
    "### Results"
   ]
  },
  {
   "cell_type": "code",
   "execution_count": 1,
   "id": "c96047c2-38ad-4b7f-be0a-fd11930dbbcd",
   "metadata": {},
   "outputs": [
    {
     "name": "stderr",
     "output_type": "stream",
     "text": [
      "Warning message:\n",
      "“package ‘ggplot2’ was built under R version 4.3.2”\n",
      "── \u001b[1mAttaching core tidyverse packages\u001b[22m ──────────────────────── tidyverse 2.0.0 ──\n",
      "\u001b[32m✔\u001b[39m \u001b[34mdplyr    \u001b[39m 1.1.3     \u001b[32m✔\u001b[39m \u001b[34mreadr    \u001b[39m 2.1.4\n",
      "\u001b[32m✔\u001b[39m \u001b[34mforcats  \u001b[39m 1.0.0     \u001b[32m✔\u001b[39m \u001b[34mstringr  \u001b[39m 1.5.0\n",
      "\u001b[32m✔\u001b[39m \u001b[34mggplot2  \u001b[39m 3.5.0     \u001b[32m✔\u001b[39m \u001b[34mtibble   \u001b[39m 3.2.1\n",
      "\u001b[32m✔\u001b[39m \u001b[34mlubridate\u001b[39m 1.9.2     \u001b[32m✔\u001b[39m \u001b[34mtidyr    \u001b[39m 1.3.0\n",
      "\u001b[32m✔\u001b[39m \u001b[34mpurrr    \u001b[39m 1.0.2     \n",
      "── \u001b[1mConflicts\u001b[22m ────────────────────────────────────────── tidyverse_conflicts() ──\n",
      "\u001b[31m✖\u001b[39m \u001b[34mdplyr\u001b[39m::\u001b[32mfilter()\u001b[39m masks \u001b[34mstats\u001b[39m::filter()\n",
      "\u001b[31m✖\u001b[39m \u001b[34mdplyr\u001b[39m::\u001b[32mlag()\u001b[39m    masks \u001b[34mstats\u001b[39m::lag()\n",
      "\u001b[36mℹ\u001b[39m Use the conflicted package (\u001b[3m\u001b[34m<http://conflicted.r-lib.org/>\u001b[39m\u001b[23m) to force all conflicts to become errors\n",
      "── \u001b[1mAttaching packages\u001b[22m ────────────────────────────────────── tidymodels 1.1.1 ──\n",
      "\n",
      "\u001b[32m✔\u001b[39m \u001b[34mbroom       \u001b[39m 1.0.5     \u001b[32m✔\u001b[39m \u001b[34mrsample     \u001b[39m 1.2.0\n",
      "\u001b[32m✔\u001b[39m \u001b[34mdials       \u001b[39m 1.2.0     \u001b[32m✔\u001b[39m \u001b[34mtune        \u001b[39m 1.1.2\n",
      "\u001b[32m✔\u001b[39m \u001b[34minfer       \u001b[39m 1.0.5     \u001b[32m✔\u001b[39m \u001b[34mworkflows   \u001b[39m 1.1.3\n",
      "\u001b[32m✔\u001b[39m \u001b[34mmodeldata   \u001b[39m 1.2.0     \u001b[32m✔\u001b[39m \u001b[34mworkflowsets\u001b[39m 1.0.1\n",
      "\u001b[32m✔\u001b[39m \u001b[34mparsnip     \u001b[39m 1.1.1     \u001b[32m✔\u001b[39m \u001b[34myardstick   \u001b[39m 1.2.0\n",
      "\u001b[32m✔\u001b[39m \u001b[34mrecipes     \u001b[39m 1.0.8     \n",
      "\n",
      "── \u001b[1mConflicts\u001b[22m ───────────────────────────────────────── tidymodels_conflicts() ──\n",
      "\u001b[31m✖\u001b[39m \u001b[34mscales\u001b[39m::\u001b[32mdiscard()\u001b[39m masks \u001b[34mpurrr\u001b[39m::discard()\n",
      "\u001b[31m✖\u001b[39m \u001b[34mdplyr\u001b[39m::\u001b[32mfilter()\u001b[39m   masks \u001b[34mstats\u001b[39m::filter()\n",
      "\u001b[31m✖\u001b[39m \u001b[34mrecipes\u001b[39m::\u001b[32mfixed()\u001b[39m  masks \u001b[34mstringr\u001b[39m::fixed()\n",
      "\u001b[31m✖\u001b[39m \u001b[34mdplyr\u001b[39m::\u001b[32mlag()\u001b[39m      masks \u001b[34mstats\u001b[39m::lag()\n",
      "\u001b[31m✖\u001b[39m \u001b[34myardstick\u001b[39m::\u001b[32mspec()\u001b[39m masks \u001b[34mreadr\u001b[39m::spec()\n",
      "\u001b[31m✖\u001b[39m \u001b[34mrecipes\u001b[39m::\u001b[32mstep()\u001b[39m   masks \u001b[34mstats\u001b[39m::step()\n",
      "\u001b[34m•\u001b[39m Search for functions across packages at \u001b[32mhttps://www.tidymodels.org/find/\u001b[39m\n",
      "\n"
     ]
    }
   ],
   "source": [
    "# Loading libraries\n",
    "library(tidyverse)\n",
    "library(repr)\n",
    "library(tidymodels)"
   ]
  },
  {
   "cell_type": "code",
   "execution_count": 2,
   "id": "6773ce76-b539-41d0-af63-625d59554bd5",
   "metadata": {},
   "outputs": [
    {
     "name": "stderr",
     "output_type": "stream",
     "text": [
      "\u001b[1mRows: \u001b[22m\u001b[34m32560\u001b[39m \u001b[1mColumns: \u001b[22m\u001b[34m15\u001b[39m\n",
      "\u001b[36m──\u001b[39m \u001b[1mColumn specification\u001b[22m \u001b[36m────────────────────────────────────────────────────────\u001b[39m\n",
      "\u001b[1mDelimiter:\u001b[22m \",\"\n",
      "\u001b[31mchr\u001b[39m (9): State-gov, Bachelors, Never-married, Adm-clerical, Not-in-family, W...\n",
      "\u001b[32mdbl\u001b[39m (6): 39, 77516, 13, 2174, 0, 40\n",
      "\n",
      "\u001b[36mℹ\u001b[39m Use `spec()` to retrieve the full column specification for this data.\n",
      "\u001b[36mℹ\u001b[39m Specify the column types or set `show_col_types = FALSE` to quiet this message.\n"
     ]
    }
   ],
   "source": [
    "adult <- read_csv(\"data/adult.csv\")"
   ]
  },
  {
   "cell_type": "markdown",
   "id": "f345812b-5615-4161-b7d4-9ba0ef14126f",
   "metadata": {},
   "source": [
    "#### *Expected Findings*\n",
    "- More younger people have an annual income greater than 50,000 dollars due to results also showing them having longer years of formal education.\n",
    "- More non-white, female, immigrants are likely to have an annual income of less than 50,000 compared to white, male, native US residents.\n",
    "- More non-white, female, immigrants work longer hours than white, male, native US residents despite having a lower income.\n",
    "\n",
    "#### *Impact of Findings*\n",
    "The results of the suggested findings can be compared to modern-day statistics to determine if the annual income for different races, sex, age, and native groups has changed. Modern findings may suggest a decrease in wage inequality between race and sex groups, allowing us to identify what changes were made. If modern stats show immigrants making an annual income more comparable to native US residents than in 1994, the government can use it as a way of attracting migrants to the country. If in 2024, data shows younger generations having more years of formal education compared to older generations, the government can advertise a rise in education levels. \n",
    "\n",
    "#### *Future Questions*\n",
    "- Is formal education an important way to increase annual income in 2024 compared to 30 years ago?\n",
    "- Has the wage gap between different races, sex, and resident groups in the United States changed in the last 30 years?\n",
    "- Are US immigrants likely to receive financial support comparable to native US residents in 2024?"
   ]
  },
  {
   "cell_type": "markdown",
   "id": "e7399916-3d96-4d9f-8479-b02542e4359a",
   "metadata": {},
   "source": [
    "### References"
   ]
  },
  {
   "cell_type": "code",
   "execution_count": null,
   "id": "5b9cae22-c273-4449-b427-7c020060c4ff",
   "metadata": {},
   "outputs": [],
   "source": []
  }
 ],
 "metadata": {
  "kernelspec": {
   "display_name": "R",
   "language": "R",
   "name": "ir"
  },
  "language_info": {
   "codemirror_mode": "r",
   "file_extension": ".r",
   "mimetype": "text/x-r-source",
   "name": "R",
   "pygments_lexer": "r",
   "version": "4.3.1"
  }
 },
 "nbformat": 4,
 "nbformat_minor": 5
}
