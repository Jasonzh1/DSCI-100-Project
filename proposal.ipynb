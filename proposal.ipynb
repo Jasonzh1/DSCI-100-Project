{
 "cells": [
  {
   "cell_type": "markdown",
   "id": "56a45e96-bd11-43cb-ba5c-e5607ee9c49d",
   "metadata": {},
   "source": [
    "## Project Proposal"
   ]
  },
  {
   "cell_type": "markdown",
   "id": "4fbc2de6-f43e-4882-9e86-22dcf6224d07",
   "metadata": {},
   "source": [
    "### Introduction\n",
    "For our project, we have decided on a fairly straightforward topic. With given information about a person, we want to predict whether their income is greater than or equal to $50,000. This information may include their education, age, occupation, etc.\n",
    "\n",
    "We will be using the **Adult** dataset taken from https://archive.ics.uci.edu/dataset/2/adult, which is based on a census done in 1994. There are 32560 rows in the data with each observation representing a single person and their various attributes. There are 15 columns each representing a different part of the person. The columns are:\n",
    " - age\n",
    " - workclass: self-employed, private, etc.\n",
    " - fnlwgt: final weight\n",
    " - education: the highest level of education achieved\n",
    " - education-num: the highest level of education achieved (numerical)\n",
    " - marital-status: married, single, etc.\n",
    " - occupation: general type of occupation (sales, services, etc.)\n",
    " - relationship: wife, husband, own-child, etc.\n",
    " - race: White, Black, Asian, etc.\n",
    " - sex: biological sex (Male, Female)\n",
    " - capital-gain: \n",
    " - capital-loss\n",
    " - hours-per-week: hours at work each week\n",
    " - native-country: country of origin\n",
    " - income: <=50k, >50k"
   ]
  },
  {
   "cell_type": "markdown",
   "id": "331af649-33da-42ad-bb61-9d20e3180acf",
   "metadata": {},
   "source": [
    "### Preliminary Data Analysis"
   ]
  },
  {
   "cell_type": "code",
   "execution_count": 73,
   "id": "afa9d2b9-8f55-4e9b-a665-eb6de10ffb30",
   "metadata": {},
   "outputs": [],
   "source": [
    "# Loading libraries\n",
    "library(tidyverse)\n",
    "library(repr)\n",
    "library(tidymodels)"
   ]
  },
  {
   "cell_type": "code",
   "execution_count": 70,
   "id": "b15efac7-2a08-43fd-a60e-c3cd11ccecb1",
   "metadata": {},
   "outputs": [
    {
     "name": "stderr",
     "output_type": "stream",
     "text": [
      "\u001b[1mRows: \u001b[22m\u001b[34m32560\u001b[39m \u001b[1mColumns: \u001b[22m\u001b[34m15\u001b[39m\n",
      "\u001b[36m──\u001b[39m \u001b[1mColumn specification\u001b[22m \u001b[36m────────────────────────────────────────────────────────\u001b[39m\n",
      "\u001b[1mDelimiter:\u001b[22m \",\"\n",
      "\u001b[31mchr\u001b[39m (9): State-gov, Bachelors, Never-married, Adm-clerical, Not-in-family, W...\n",
      "\u001b[32mdbl\u001b[39m (6): 39, 77516, 13, 2174, 0, 40\n",
      "\n",
      "\u001b[36mℹ\u001b[39m Use `spec()` to retrieve the full column specification for this data.\n",
      "\u001b[36mℹ\u001b[39m Specify the column types or set `show_col_types = FALSE` to quiet this message.\n"
     ]
    },
    {
     "data": {
      "text/html": [
       "<table class=\"dataframe\">\n",
       "<caption>A spec_tbl_df: 4 × 15</caption>\n",
       "<thead>\n",
       "\t<tr><th scope=col>age</th><th scope=col>workclass</th><th scope=col>fnlwgt</th><th scope=col>education</th><th scope=col>education_num</th><th scope=col>marital_status</th><th scope=col>occupation</th><th scope=col>relationship</th><th scope=col>race</th><th scope=col>sex</th><th scope=col>capital_gain</th><th scope=col>capital_loss</th><th scope=col>hours_per_week</th><th scope=col>native_country</th><th scope=col>income</th></tr>\n",
       "\t<tr><th scope=col>&lt;dbl&gt;</th><th scope=col>&lt;chr&gt;</th><th scope=col>&lt;dbl&gt;</th><th scope=col>&lt;chr&gt;</th><th scope=col>&lt;dbl&gt;</th><th scope=col>&lt;chr&gt;</th><th scope=col>&lt;chr&gt;</th><th scope=col>&lt;chr&gt;</th><th scope=col>&lt;chr&gt;</th><th scope=col>&lt;chr&gt;</th><th scope=col>&lt;dbl&gt;</th><th scope=col>&lt;dbl&gt;</th><th scope=col>&lt;dbl&gt;</th><th scope=col>&lt;chr&gt;</th><th scope=col>&lt;chr&gt;</th></tr>\n",
       "</thead>\n",
       "<tbody>\n",
       "\t<tr><td>50</td><td>Self-emp-not-inc</td><td> 83311</td><td>Bachelors</td><td>13</td><td>Married-civ-spouse</td><td><span style=white-space:pre-wrap>Exec-managerial  </span></td><td><span style=white-space:pre-wrap>Husband      </span></td><td>White</td><td><span style=white-space:pre-wrap>Male  </span></td><td>0</td><td>0</td><td>13</td><td>United-States</td><td>&lt;=50K</td></tr>\n",
       "\t<tr><td>38</td><td><span style=white-space:pre-wrap>Private         </span></td><td>215646</td><td><span style=white-space:pre-wrap>HS-grad  </span></td><td> 9</td><td><span style=white-space:pre-wrap>Divorced          </span></td><td>Handlers-cleaners</td><td>Not-in-family</td><td>White</td><td><span style=white-space:pre-wrap>Male  </span></td><td>0</td><td>0</td><td>40</td><td>United-States</td><td>&lt;=50K</td></tr>\n",
       "\t<tr><td>53</td><td><span style=white-space:pre-wrap>Private         </span></td><td>234721</td><td><span style=white-space:pre-wrap>11th     </span></td><td> 7</td><td>Married-civ-spouse</td><td>Handlers-cleaners</td><td><span style=white-space:pre-wrap>Husband      </span></td><td>Black</td><td><span style=white-space:pre-wrap>Male  </span></td><td>0</td><td>0</td><td>40</td><td>United-States</td><td>&lt;=50K</td></tr>\n",
       "\t<tr><td>28</td><td><span style=white-space:pre-wrap>Private         </span></td><td>338409</td><td>Bachelors</td><td>13</td><td>Married-civ-spouse</td><td><span style=white-space:pre-wrap>Prof-specialty   </span></td><td><span style=white-space:pre-wrap>Wife         </span></td><td>Black</td><td>Female</td><td>0</td><td>0</td><td>40</td><td><span style=white-space:pre-wrap>Cuba         </span></td><td>&lt;=50K</td></tr>\n",
       "</tbody>\n",
       "</table>\n"
      ],
      "text/latex": [
       "A spec\\_tbl\\_df: 4 × 15\n",
       "\\begin{tabular}{lllllllllllllll}\n",
       " age & workclass & fnlwgt & education & education\\_num & marital\\_status & occupation & relationship & race & sex & capital\\_gain & capital\\_loss & hours\\_per\\_week & native\\_country & income\\\\\n",
       " <dbl> & <chr> & <dbl> & <chr> & <dbl> & <chr> & <chr> & <chr> & <chr> & <chr> & <dbl> & <dbl> & <dbl> & <chr> & <chr>\\\\\n",
       "\\hline\n",
       "\t 50 & Self-emp-not-inc &  83311 & Bachelors & 13 & Married-civ-spouse & Exec-managerial   & Husband       & White & Male   & 0 & 0 & 13 & United-States & <=50K\\\\\n",
       "\t 38 & Private          & 215646 & HS-grad   &  9 & Divorced           & Handlers-cleaners & Not-in-family & White & Male   & 0 & 0 & 40 & United-States & <=50K\\\\\n",
       "\t 53 & Private          & 234721 & 11th      &  7 & Married-civ-spouse & Handlers-cleaners & Husband       & Black & Male   & 0 & 0 & 40 & United-States & <=50K\\\\\n",
       "\t 28 & Private          & 338409 & Bachelors & 13 & Married-civ-spouse & Prof-specialty    & Wife          & Black & Female & 0 & 0 & 40 & Cuba          & <=50K\\\\\n",
       "\\end{tabular}\n"
      ],
      "text/markdown": [
       "\n",
       "A spec_tbl_df: 4 × 15\n",
       "\n",
       "| age &lt;dbl&gt; | workclass &lt;chr&gt; | fnlwgt &lt;dbl&gt; | education &lt;chr&gt; | education_num &lt;dbl&gt; | marital_status &lt;chr&gt; | occupation &lt;chr&gt; | relationship &lt;chr&gt; | race &lt;chr&gt; | sex &lt;chr&gt; | capital_gain &lt;dbl&gt; | capital_loss &lt;dbl&gt; | hours_per_week &lt;dbl&gt; | native_country &lt;chr&gt; | income &lt;chr&gt; |\n",
       "|---|---|---|---|---|---|---|---|---|---|---|---|---|---|---|\n",
       "| 50 | Self-emp-not-inc |  83311 | Bachelors | 13 | Married-civ-spouse | Exec-managerial   | Husband       | White | Male   | 0 | 0 | 13 | United-States | &lt;=50K |\n",
       "| 38 | Private          | 215646 | HS-grad   |  9 | Divorced           | Handlers-cleaners | Not-in-family | White | Male   | 0 | 0 | 40 | United-States | &lt;=50K |\n",
       "| 53 | Private          | 234721 | 11th      |  7 | Married-civ-spouse | Handlers-cleaners | Husband       | Black | Male   | 0 | 0 | 40 | United-States | &lt;=50K |\n",
       "| 28 | Private          | 338409 | Bachelors | 13 | Married-civ-spouse | Prof-specialty    | Wife          | Black | Female | 0 | 0 | 40 | Cuba          | &lt;=50K |\n",
       "\n"
      ],
      "text/plain": [
       "  age workclass        fnlwgt education education_num marital_status    \n",
       "1 50  Self-emp-not-inc  83311 Bachelors 13            Married-civ-spouse\n",
       "2 38  Private          215646 HS-grad    9            Divorced          \n",
       "3 53  Private          234721 11th       7            Married-civ-spouse\n",
       "4 28  Private          338409 Bachelors 13            Married-civ-spouse\n",
       "  occupation        relationship  race  sex    capital_gain capital_loss\n",
       "1 Exec-managerial   Husband       White Male   0            0           \n",
       "2 Handlers-cleaners Not-in-family White Male   0            0           \n",
       "3 Handlers-cleaners Husband       Black Male   0            0           \n",
       "4 Prof-specialty    Wife          Black Female 0            0           \n",
       "  hours_per_week native_country income\n",
       "1 13             United-States  <=50K \n",
       "2 40             United-States  <=50K \n",
       "3 40             United-States  <=50K \n",
       "4 40             Cuba           <=50K "
      ]
     },
     "metadata": {},
     "output_type": "display_data"
    }
   ],
   "source": [
    "# Reading downloaded csv file\n",
    "adult <- read_csv(\"data/adult.csv\")\n",
    "\n",
    "# Adding column names\n",
    "colnames(adult) <- c('age', 'workclass', 'fnlwgt', 'education', 'education_num', \n",
    "                     'marital_status', 'occupation', 'relationship', 'race', 'sex',\n",
    "                    'capital_gain', 'capital_loss', 'hours_per_week', 'native_country', 'income')\n",
    "slice(adult, 1:4)"
   ]
  },
  {
   "cell_type": "code",
   "execution_count": 71,
   "id": "ca6325fd-f69a-4d8d-8e96-6a18d297e4c5",
   "metadata": {},
   "outputs": [],
   "source": [
    "# Many of the predictors are categorical so we need to convert them into numerical values\n",
    "adult_numerical <- adult |>\n",
    "    select(workclass, education, marital_status, occupation, relationship, race, sex, native_country) |>\n",
    "    mutate(across(workclass:native_country, as.factor)) |>\n",
    "    sapply(unclass) \n",
    "adult_final <- adult |>\n",
    "    select(age, fnlwgt, education_num, capital_gain, capital_loss, hours_per_week, income)\n",
    "adult_final <- cbind(adult_final, adult_numerical) |>\n",
    "    mutate(income = as_factor(income))\n",
    "\n",
    "# Getting the training data\n",
    "set.seed(3456) \n",
    "\n",
    "# Randomly take 75% of the data in the training set. \n",
    "adult_split <- initial_split(adult_final, prop = 0.75, strata = income)  \n",
    "adult_train <- training(adult_split)   \n",
    "adult_test <- testing(adult_split)"
   ]
  },
  {
   "cell_type": "code",
   "execution_count": 72,
   "id": "f68fc3ed-f169-479b-a41f-687ffa70de22",
   "metadata": {},
   "outputs": [
    {
     "data": {
      "text/html": [
       "<table class=\"dataframe\">\n",
       "<caption>A tibble: 1 × 5</caption>\n",
       "<thead>\n",
       "\t<tr><th scope=col>age</th><th scope=col>fnlwgt</th><th scope=col>capital_gain</th><th scope=col>capital_loss</th><th scope=col>hours_per_week</th></tr>\n",
       "\t<tr><th scope=col>&lt;dbl&gt;</th><th scope=col>&lt;dbl&gt;</th><th scope=col>&lt;dbl&gt;</th><th scope=col>&lt;dbl&gt;</th><th scope=col>&lt;dbl&gt;</th></tr>\n",
       "</thead>\n",
       "<tbody>\n",
       "\t<tr><td>38.60363</td><td>189183.4</td><td>1136.137</td><td>88.29805</td><td>40.44252</td></tr>\n",
       "</tbody>\n",
       "</table>\n"
      ],
      "text/latex": [
       "A tibble: 1 × 5\n",
       "\\begin{tabular}{lllll}\n",
       " age & fnlwgt & capital\\_gain & capital\\_loss & hours\\_per\\_week\\\\\n",
       " <dbl> & <dbl> & <dbl> & <dbl> & <dbl>\\\\\n",
       "\\hline\n",
       "\t 38.60363 & 189183.4 & 1136.137 & 88.29805 & 40.44252\\\\\n",
       "\\end{tabular}\n"
      ],
      "text/markdown": [
       "\n",
       "A tibble: 1 × 5\n",
       "\n",
       "| age &lt;dbl&gt; | fnlwgt &lt;dbl&gt; | capital_gain &lt;dbl&gt; | capital_loss &lt;dbl&gt; | hours_per_week &lt;dbl&gt; |\n",
       "|---|---|---|---|---|\n",
       "| 38.60363 | 189183.4 | 1136.137 | 88.29805 | 40.44252 |\n",
       "\n"
      ],
      "text/plain": [
       "  age      fnlwgt   capital_gain capital_loss hours_per_week\n",
       "1 38.60363 189183.4 1136.137     88.29805     40.44252      "
      ]
     },
     "metadata": {},
     "output_type": "display_data"
    },
    {
     "data": {
      "text/html": [
       "<table class=\"dataframe\">\n",
       "<caption>A tibble: 1 × 8</caption>\n",
       "<thead>\n",
       "\t<tr><th scope=col>workclass</th><th scope=col>education</th><th scope=col>marital_status</th><th scope=col>occupation</th><th scope=col>relationship</th><th scope=col>race</th><th scope=col>sex</th><th scope=col>native_country</th></tr>\n",
       "\t<tr><th scope=col>&lt;chr&gt;</th><th scope=col>&lt;chr&gt;</th><th scope=col>&lt;chr&gt;</th><th scope=col>&lt;chr&gt;</th><th scope=col>&lt;chr&gt;</th><th scope=col>&lt;chr&gt;</th><th scope=col>&lt;chr&gt;</th><th scope=col>&lt;chr&gt;</th></tr>\n",
       "</thead>\n",
       "<tbody>\n",
       "\t<tr><td>Private</td><td>HS-grad</td><td>Married-civ-spouse</td><td>Prof-specialty</td><td>Husband</td><td>White</td><td>Male</td><td>United-States</td></tr>\n",
       "</tbody>\n",
       "</table>\n"
      ],
      "text/latex": [
       "A tibble: 1 × 8\n",
       "\\begin{tabular}{llllllll}\n",
       " workclass & education & marital\\_status & occupation & relationship & race & sex & native\\_country\\\\\n",
       " <chr> & <chr> & <chr> & <chr> & <chr> & <chr> & <chr> & <chr>\\\\\n",
       "\\hline\n",
       "\t Private & HS-grad & Married-civ-spouse & Prof-specialty & Husband & White & Male & United-States\\\\\n",
       "\\end{tabular}\n"
      ],
      "text/markdown": [
       "\n",
       "A tibble: 1 × 8\n",
       "\n",
       "| workclass &lt;chr&gt; | education &lt;chr&gt; | marital_status &lt;chr&gt; | occupation &lt;chr&gt; | relationship &lt;chr&gt; | race &lt;chr&gt; | sex &lt;chr&gt; | native_country &lt;chr&gt; |\n",
       "|---|---|---|---|---|---|---|---|\n",
       "| Private | HS-grad | Married-civ-spouse | Prof-specialty | Husband | White | Male | United-States |\n",
       "\n"
      ],
      "text/plain": [
       "  workclass education marital_status     occupation     relationship race  sex \n",
       "1 Private   HS-grad   Married-civ-spouse Prof-specialty Husband      White Male\n",
       "  native_country\n",
       "1 United-States "
      ]
     },
     "metadata": {},
     "output_type": "display_data"
    }
   ],
   "source": [
    "# Beginning data analysis:\n",
    "# We will take the mean of our numerical predictors and the mode of our categorical predictors\n",
    "\n",
    "analysis_mean <- adult_train |>\n",
    "    select(age, fnlwgt, capital_gain, capital_loss, hours_per_week) |>\n",
    "    map_df(mean, na.rm = TRUE)\n",
    "\n",
    "getmode <- function(v) {\n",
    "   uniqv <- unique(v)\n",
    "   uniqv[which.max(tabulate(match(v, uniqv)))]\n",
    "}\n",
    "\n",
    "analysis_mode <- adult |>\n",
    "    select(workclass, education, marital_status, occupation, relationship, race, sex, native_country) |>\n",
    "    map_df(getmode)\n",
    "\n",
    "# Mean value of our numerical predictors\n",
    "analysis_mean\n",
    "# Most frequent value of our categorical predictors \n",
    "analysis_mode"
   ]
  },
  {
   "cell_type": "markdown",
   "id": "8d9b57b2-a504-4f4d-8e47-0e29e52f727d",
   "metadata": {},
   "source": [
    "### Methods"
   ]
  },
  {
   "cell_type": "markdown",
   "id": "48aa5e73-fc71-46ec-af91-218a7bf15a5e",
   "metadata": {},
   "source": [
    "Our question is a classification problem so we want to use the K nearest neighbors model in tidymodels. Since we converted all columns to numerical we can use any column as a predictor. We want to use the majority of the columns available as predictors because most of them are fairly relevant to income. But there are some variables that we don't want to use or make some changes to:\n",
    "1. The relationship and marital_status columns are redundant so we can just use marital_status.\n",
    "2. Workclass is not very relevant to income so we will not use it as a predictor.\n",
    "3. Marital status contains information on whether they are married to a civilian or military. This isn't important to income so we can simply convert all values to just \"married.\""
   ]
  },
  {
   "cell_type": "code",
   "execution_count": null,
   "id": "71bf2681-4dc1-4b91-8310-93b16796422d",
   "metadata": {},
   "outputs": [],
   "source": []
  }
 ],
 "metadata": {
  "kernelspec": {
   "display_name": "R",
   "language": "R",
   "name": "ir"
  },
  "language_info": {
   "codemirror_mode": "r",
   "file_extension": ".r",
   "mimetype": "text/x-r-source",
   "name": "R",
   "pygments_lexer": "r",
   "version": "4.3.1"
  }
 },
 "nbformat": 4,
 "nbformat_minor": 5
}
